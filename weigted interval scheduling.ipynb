{
 "cells": [
  {
   "cell_type": "code",
   "execution_count": 1,
   "id": "29a199ce",
   "metadata": {},
   "outputs": [
    {
     "name": "stdout",
     "output_type": "stream",
     "text": [
      "Enter the number of intervals:6\n",
      "FOR INTERVAL/JOB=  1\n",
      "Enter the start time:0\n",
      "Enter the finish time:3\n",
      "Enter the value/weight:2\n",
      "FOR INTERVAL/JOB=  2\n",
      "Enter the start time:2\n",
      "Enter the finish time:5\n",
      "Enter the value/weight:4\n",
      "FOR INTERVAL/JOB=  3\n",
      "Enter the start time:4\n",
      "Enter the finish time:7\n",
      "Enter the value/weight:4\n",
      "FOR INTERVAL/JOB=  4\n",
      "Enter the start time:2\n",
      "Enter the finish time:8\n",
      "Enter the value/weight:7\n",
      "FOR INTERVAL/JOB=  5\n",
      "Enter the start time:7\n",
      "Enter the finish time:9\n",
      "Enter the value/weight:2\n",
      "FOR INTERVAL/JOB=  6\n",
      "Enter the start time:7\n",
      "Enter the finish time:10\n",
      "Enter the value/weight:1\n"
     ]
    }
   ],
   "source": [
    "#WEIGHTED INTERVAL SCHEDULING\n",
    "#input from the user\n",
    "n=int(input(\"Enter the number of intervals:\"))\n",
    "start_time=[0]*(n+1)\n",
    "finish_time=[0]*(n+1)\n",
    "value=[0]*(n+1)\n",
    "M=[0]*(n+1) \n",
    "for i in range(1,n+1):\n",
    "    print(\"FOR INTERVAL/JOB= \",i)\n",
    "    start_time[i]=int(input(\"Enter the start time:\"))\n",
    "    finish_time[i]=int(input(\"Enter the finish time:\"))\n",
    "    value[i]=int(input(\"Enter the value/weight:\"))\n",
    "    "
   ]
  },
  {
   "cell_type": "code",
   "execution_count": 2,
   "id": "cab9f7c9",
   "metadata": {},
   "outputs": [
    {
     "name": "stdout",
     "output_type": "stream",
     "text": [
      "[0, 0, 0, 1, 0, 3, 3]\n"
     ]
    }
   ],
   "source": [
    "#computing p[j]\n",
    "p=[0]*(n+1)\n",
    "for j in range(n,0,-1):\n",
    "    for i in range(j-1,0,-1):\n",
    "        if (start_time[j]>=finish_time[i]):\n",
    "            p[j]=i\n",
    "            break\n",
    "print(p)"
   ]
  },
  {
   "cell_type": "code",
   "execution_count": 12,
   "id": "0bc9d552",
   "metadata": {},
   "outputs": [],
   "source": [
    "#function to compute the optimal of each subproblem\n",
    "#iterative method\n",
    "def iterative_m_compute(n):\n",
    "    M[0]=0\n",
    "    for j  in range(1,n+1):\n",
    "        M[j]=max(value[j]+M[p[j]],M[j-1])"
   ]
  },
  {
   "cell_type": "code",
   "execution_count": 17,
   "id": "37e17218",
   "metadata": {},
   "outputs": [],
   "source": [
    "\n",
    "#Function to find the intervals\n",
    "def find_solution(j):\n",
    "    if j==0:\n",
    "        return\n",
    "    elif ((value[j]+M[p[j]])>=M[j-1]):\n",
    "        print(\"Iterval \",j)\n",
    "        find_solution(p[j])\n",
    "    else:\n",
    "        find_solution(j-1)"
   ]
  },
  {
   "cell_type": "code",
   "execution_count": 18,
   "id": "4dacd29a",
   "metadata": {},
   "outputs": [
    {
     "name": "stdout",
     "output_type": "stream",
     "text": [
      "[0, 2, 4, 6, 7, 8, 8]\n",
      "\n",
      "\n",
      "--THE INTERVALS TO SCHEDULE:\n",
      "Iterval  5\n",
      "Iterval  3\n",
      "Iterval  1\n"
     ]
    }
   ],
   "source": [
    "iterative_m_compute(n)\n",
    "print(M)\n",
    "print(\"\\n\\n--THE INTERVALS TO SCHEDULE:\")\n",
    "find_solution(n)"
   ]
  },
  {
   "cell_type": "code",
   "execution_count": 8,
   "id": "4b18d77d",
   "metadata": {},
   "outputs": [],
   "source": []
  },
  {
   "cell_type": "code",
   "execution_count": null,
   "id": "9e84a5ac",
   "metadata": {},
   "outputs": [],
   "source": []
  },
  {
   "cell_type": "code",
   "execution_count": null,
   "id": "8b82471e",
   "metadata": {},
   "outputs": [],
   "source": []
  }
 ],
 "metadata": {
  "kernelspec": {
   "display_name": "Python 3 (ipykernel)",
   "language": "python",
   "name": "python3"
  },
  "language_info": {
   "codemirror_mode": {
    "name": "ipython",
    "version": 3
   },
   "file_extension": ".py",
   "mimetype": "text/x-python",
   "name": "python",
   "nbconvert_exporter": "python",
   "pygments_lexer": "ipython3",
   "version": "3.9.13"
  }
 },
 "nbformat": 4,
 "nbformat_minor": 5
}
